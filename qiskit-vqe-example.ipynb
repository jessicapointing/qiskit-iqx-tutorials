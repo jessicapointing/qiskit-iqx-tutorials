{
 "cells": [
  {
   "cell_type": "markdown",
   "metadata": {},
   "source": [
    "### Script performing an example variational algorithm using Qiskit Aqua"
   ]
  },
  {
   "cell_type": "code",
   "execution_count": 1,
   "metadata": {},
   "outputs": [],
   "source": [
    "# =======\n",
    "# imports\n",
    "# =======\n",
    "\n",
    "from qiskit.aqua import get_aer_backend\n",
    "\n",
    "from qiskit.aqua.components.initial_states import Zero\n",
    "from qiskit.aqua.components.variational_forms import RY\n",
    "from qiskit.aqua.operator import Operator\n",
    "from qiskit.aqua.components.optimizers import COBYLA\n",
    "from qiskit.aqua.algorithms import VQE\n",
    "from qiskit.aqua import QuantumInstance\n",
    "import warnings\n",
    "warnings.filterwarnings('ignore')"
   ]
  },
  {
   "cell_type": "code",
   "execution_count": 2,
   "metadata": {},
   "outputs": [],
   "source": [
    "# =========\n",
    "# constants\n",
    "# =========\n",
    "\n",
    "# number of qubits\n",
    "num_qubits = 2\n",
    "\n",
    "# pauli operators for a hamiltonian\n",
    "pauli_dict = {\n",
    "            'paulis': [{\"coeff\": {\"imag\": 0.0, \"real\": -1.052373245772859}, \"label\": \"II\"},\n",
    "                       {\"coeff\": {\"imag\": 0.0, \"real\": 0.39793742484318045}, \"label\": \"IZ\"},\n",
    "                       {\"coeff\": {\"imag\": 0.0, \"real\": -0.39793742484318045}, \"label\": \"ZI\"},\n",
    "                       {\"coeff\": {\"imag\": 0.0, \"real\": -0.01128010425623538}, \"label\": \"ZZ\"},\n",
    "                       {\"coeff\": {\"imag\": 0.0, \"real\": 0.18093119978423156}, \"label\": \"XX\"}\n",
    "                       ]\n",
    "    }"
   ]
  },
  {
   "cell_type": "code",
   "execution_count": 3,
   "metadata": {},
   "outputs": [],
   "source": [
    "# ======================\n",
    "# setting up the circuit\n",
    "# ======================\n",
    "\n",
    "# define the initial state\n",
    "init_state = Zero(num_qubits)\n",
    "\n",
    "# get a variational ansatz\n",
    "ansatz = RY(num_qubits)\n",
    "\n",
    "# operator from hamiltonian\n",
    "qubit_op = Operator.load_from_dict(pauli_dict)\n",
    "\n",
    "# get an optimizer\n",
    "optimizer = COBYLA(maxiter=1000, disp=True)\n",
    "\n",
    "# form the algorithm\n",
    "vqe = VQE(qubit_op, ansatz, optimizer)\n",
    "\n",
    "# get a backend\n",
    "backend = get_aer_backend(\"statevector_simulator\")\n",
    "\n",
    "# get a quantum instance\n",
    "qinstance = QuantumInstance(backend, shots=1024)"
   ]
  },
  {
   "cell_type": "code",
   "execution_count": 4,
   "metadata": {},
   "outputs": [],
   "source": [
    "# ===================\n",
    "# do the optimization\n",
    "# ===================\n",
    "\n",
    "result = vqe.run(qinstance)"
   ]
  },
  {
   "cell_type": "code",
   "execution_count": 5,
   "metadata": {},
   "outputs": [
    {
     "name": "stdout",
     "output_type": "stream",
     "text": [
      "{'num_optimizer_evals': 119, 'min_val': -1.8572750288166913, 'opt_params': array([-0.43815468,  3.93891868, -1.16822459,  0.66026905, -3.14394187,\n",
      "        0.11488149,  0.87200262, -1.6562297 ]), 'eval_time': 3.454651355743408, 'eval_count': 119, 'energy': -1.8572750288166913, 'eigvals': array([-1.85727503]), 'min_vector': array([-1.18765769e-05+0.j,  9.93762018e-01+0.j, -1.11521527e-01+0.j,\n",
      "       -3.16398338e-05+0.j]), 'eigvecs': array([[-1.18765769e-05+0.j,  9.93762018e-01+0.j, -1.11521527e-01+0.j,\n",
      "        -3.16398338e-05+0.j]])}\n",
      "        ┌───────────┐ ░                               ░ ┌───────────┐ ░ »\n",
      "q_0: |0>┤ U3(0,0,0) ├─░───────────────■───────────────░─┤ U3(2,0,0) ├─░─»\n",
      "        ├───────────┤ ░ ┌──────────┐┌─┴─┐┌──────────┐ ░ ├───────────┤ ░ »\n",
      "q_1: |0>┤ U3(1,0,0) ├─░─┤ U2(0,pi) ├┤ X ├┤ U2(0,pi) ├─░─┤ U3(3,0,0) ├─░─»\n",
      "        └───────────┘ ░ └──────────┘└───┘└──────────┘ ░ └───────────┘ ░ »\n",
      "«                                   ░ ┌───────────┐ ░                  »\n",
      "«q_0: ──────────────■───────────────░─┤ U3(4,0,0) ├─░───────────────■──»\n",
      "«     ┌──────────┐┌─┴─┐┌──────────┐ ░ ├───────────┤ ░ ┌──────────┐┌─┴─┐»\n",
      "«q_1: ┤ U2(0,pi) ├┤ X ├┤ U2(0,pi) ├─░─┤ U3(5,0,0) ├─░─┤ U2(0,pi) ├┤ X ├»\n",
      "«     └──────────┘└───┘└──────────┘ ░ └───────────┘ ░ └──────────┘└───┘»\n",
      "«                  ░ ┌───────────┐ ░ \n",
      "«q_0: ─────────────░─┤ U3(6,0,0) ├─░─\n",
      "«     ┌──────────┐ ░ ├───────────┤ ░ \n",
      "«q_1: ┤ U2(0,pi) ├─░─┤ U3(7,0,0) ├─░─\n",
      "«     └──────────┘ ░ └───────────┘ ░ \n"
     ]
    }
   ],
   "source": [
    "# ================\n",
    "# show the results\n",
    "# ================\n",
    "\n",
    "# output of the optimization\n",
    "print(result)\n",
    "\n",
    "# show the circuit\n",
    "circuit = vqe.construct_circuit(list(range(8)), backend)[0]\n",
    "print(circuit)"
   ]
  }
 ],
 "metadata": {
  "kernelspec": {
   "display_name": "Python 3",
   "language": "python",
   "name": "python3"
  },
  "language_info": {
   "codemirror_mode": {
    "name": "ipython",
    "version": 3
   },
   "file_extension": ".py",
   "mimetype": "text/x-python",
   "name": "python",
   "nbconvert_exporter": "python",
   "pygments_lexer": "ipython3",
   "version": "3.7.3"
  }
 },
 "nbformat": 4,
 "nbformat_minor": 2
}
